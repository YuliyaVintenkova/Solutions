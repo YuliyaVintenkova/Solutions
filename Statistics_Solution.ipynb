{
 "cells": [
  {
   "cell_type": "code",
   "execution_count": 1,
   "metadata": {},
   "outputs": [
    {
     "name": "stdout",
     "output_type": "stream",
     "text": [
      "Средний балл больше в группе А\n",
      "Разброс результатов меньше в группе B\n"
     ]
    }
   ],
   "source": [
    "# №1\n",
    "group_a = [4, 8, 9, 2]\n",
    "group_b = [3, 10, 11, 3]\n",
    "\n",
    "# для интервального ряда можно выбрать \"опорные точки\" -- среднее граничных значений\n",
    "centers = [90, 70, 50, 30] \n",
    "\n",
    "# средний балл\n",
    "mean_a = (1/sum(group_a)) * sum([c * m for c, m in zip(centers, group_a)])\n",
    "mean_b = (1/sum(group_b)) * sum([c * m for c, m in zip(centers, group_b)])\n",
    "\n",
    "# разброс\n",
    "var_a = (1/sum(group_a)) * sum([(c1 - mean_a) ** 2 * c2 for c1, c2 in zip(centers, group_a)])\n",
    "var_b = (1/sum(group_b)) * sum([(c1 - mean_b) ** 2 * c2 for c1, c2 in zip(centers, group_b)])\n",
    "\n",
    "if mean_a > mean_b: \n",
    "    print('Средний балл больше в группе А')\n",
    "elif mean_a < mean_b: \n",
    "    print('Средний балл больше в группе B ')\n",
    "    \n",
    "if var_a < var_b: \n",
    "    print('Разброс результатов меньше в группе А')\n",
    "elif var_a > var_b: \n",
    "    print('Разброс результатов меньше в группе B')"
   ]
  },
  {
   "cell_type": "code",
   "execution_count": 2,
   "metadata": {},
   "outputs": [
    {
     "data": {
      "image/png": "[encoded data removed]",
      "text/plain": [
       "<Figure size 432x288 with 1 Axes>"
      ]
     },
     "metadata": {
      "needs_background": "light"
     },
     "output_type": "display_data"
    },
    {
     "name": "stdout",
     "output_type": "stream",
     "text": [
      "Выборочное среднее: 25.6\n",
      "СКО: 18.265815065307105\n"
     ]
    }
   ],
   "source": [
    "# 2\n",
    "import numpy as np\n",
    "import matplotlib.pyplot as plt\n",
    "\n",
    "intervals = ['[0;10)', '[10;20)', '[20;30)', '[30;40)', '[40;50)', '[50;60]']\n",
    "\n",
    "centers = [5, 15, 25, 35, 45, 55]\n",
    "calls = [15, 7, 10, 4, 6, 8]\n",
    "\n",
    "plt.bar(intervals, calls)\n",
    "plt.xlabel('Временные интервалы') \n",
    "plt.ylabel('Количество звонков') \n",
    "plt.show() \n",
    "\n",
    "# среднее\n",
    "mean = (1/sum(calls)) * sum([c1 * c2 for c1, c2 in zip(centers, calls)])\n",
    "\n",
    "# СКО \n",
    "sigma = np.sqrt((1/sum(calls)) * sum([(c1 - mean) ** 2 * c2 for c1, c2 in zip(centers, calls)]))\n",
    "\n",
    "print('Выборочное среднее:', mean)\n",
    "print('СКО:', sigma)"
   ]
  },
  {
   "cell_type": "code",
   "execution_count": 3,
   "metadata": {},
   "outputs": [
    {
     "name": "stdout",
     "output_type": "stream",
     "text": [
      "Нулевая гипотеза о равенстве дисперсий отвергается.\n"
     ]
    }
   ],
   "source": [
    "# №3 Задача решена с помощью F-теста (критерия Фишера):\n",
    "\n",
    "n1 = 16 # размер первой выборки\n",
    "n2 = 25 # размер второй выборки\n",
    "\n",
    "var1 = 32 # выборочная дисперсия первой выборки\n",
    "var2 = 15 # выборочная дисперсия второй выборки\n",
    "\n",
    "Fobs = var1/var2 # статистика теста\n",
    "\n",
    "# на основе степеней свободы и уровня значимости 0.05 определяется критическое значение (определено по таблице)\n",
    "df1 = n1 - 1 # 15\n",
    "df2 = n2 - 1 # 24\n",
    "\n",
    "Ftable = 2.1077\n",
    "\n",
    "if Fobs > Ftable:\n",
    "    print('Нулевая гипотеза о равенстве дисперсий отвергается.')"
   ]
  },
  {
   "cell_type": "code",
   "execution_count": 4,
   "metadata": {},
   "outputs": [
    {
     "name": "stdout",
     "output_type": "stream",
     "text": [
      "Для обоих факторов нулевая гипотеза не отвергается, так как наблюдаемые значения отношения Фишера меньше критических. \n"
     ]
    },
    {
     "data": {
      "text/html": [
       "<div>\n",
       "<style scoped>\n",
       "    .dataframe tbody tr th:only-of-type {\n",
       "        vertical-align: middle;\n",
       "    }\n",
       "\n",
       "    .dataframe tbody tr th {\n",
       "        vertical-align: top;\n",
       "    }\n",
       "\n",
       "    .dataframe thead th {\n",
       "        text-align: right;\n",
       "    }\n",
       "</style>\n",
       "<table border=\"1\" class=\"dataframe\">\n",
       "  <thead>\n",
       "    <tr style=\"text-align: right;\">\n",
       "      <th></th>\n",
       "      <th>Источник</th>\n",
       "      <th>SS</th>\n",
       "      <th>DF</th>\n",
       "      <th>MS</th>\n",
       "      <th>F</th>\n",
       "      <th>p-value</th>\n",
       "      <th>F (крит)</th>\n",
       "      <th>Значимость</th>\n",
       "    </tr>\n",
       "  </thead>\n",
       "  <tbody>\n",
       "    <tr>\n",
       "      <th>0</th>\n",
       "      <td>Фактор А (Канал)</td>\n",
       "      <td>78.0</td>\n",
       "      <td>3</td>\n",
       "      <td>26</td>\n",
       "      <td>2.78571</td>\n",
       "      <td>0.132073</td>\n",
       "      <td>4.75706</td>\n",
       "      <td>Фактор не оказывает существенного влияния</td>\n",
       "    </tr>\n",
       "    <tr>\n",
       "      <th>1</th>\n",
       "      <td>Фактор Б (Регион)</td>\n",
       "      <td>42.0</td>\n",
       "      <td>2</td>\n",
       "      <td>21</td>\n",
       "      <td>2.25</td>\n",
       "      <td>0.186589</td>\n",
       "      <td>5.14325</td>\n",
       "      <td>Фактор не оказывает существенного влияния</td>\n",
       "    </tr>\n",
       "    <tr>\n",
       "      <th>2</th>\n",
       "      <td>Ошибка</td>\n",
       "      <td>56.0</td>\n",
       "      <td>6</td>\n",
       "      <td>9.33333</td>\n",
       "      <td>--</td>\n",
       "      <td>--</td>\n",
       "      <td>--</td>\n",
       "      <td>--</td>\n",
       "    </tr>\n",
       "    <tr>\n",
       "      <th>3</th>\n",
       "      <td>Итого</td>\n",
       "      <td>176.0</td>\n",
       "      <td>11</td>\n",
       "      <td>--</td>\n",
       "      <td>--</td>\n",
       "      <td>--</td>\n",
       "      <td>--</td>\n",
       "      <td>--</td>\n",
       "    </tr>\n",
       "  </tbody>\n",
       "</table>\n",
       "</div>"
      ],
      "text/plain": [
       "            Источник     SS  DF       MS        F   p-value F (крит)  \\\n",
       "0   Фактор А (Канал)   78.0   3       26  2.78571  0.132073  4.75706   \n",
       "1  Фактор Б (Регион)   42.0   2       21     2.25  0.186589  5.14325   \n",
       "2             Ошибка   56.0   6  9.33333       --        --       --   \n",
       "3              Итого  176.0  11       --       --        --       --   \n",
       "\n",
       "                                  Значимость  \n",
       "0  Фактор не оказывает существенного влияния  \n",
       "1  Фактор не оказывает существенного влияния  \n",
       "2                                         --  \n",
       "3                                         --  "
      ]
     },
     "execution_count": 4,
     "metadata": {},
     "output_type": "execute_result"
    }
   ],
   "source": [
    "# №4 Задача решена с помощью двухфакторного дисперсионного анализа без повторений\n",
    "import pandas as pd\n",
    "from scipy import stats\n",
    "\n",
    "data = pd.DataFrame(columns = ['Channel', 'Region', 'NewClients'])\n",
    "\n",
    "data['Channel'] = ['A1', 'A1', 'A1', \n",
    "                   'A2', 'A2', 'A2', \n",
    "                   'A3', 'A3', 'A3', \n",
    "                   'A4', 'A4', 'A4']\n",
    "\n",
    "data['Region'] = ['B1', 'B2', 'B3',\n",
    "                  'B1', 'B2', 'B3',\n",
    "                  'B1', 'B2', 'B3',\n",
    "                  'B1', 'B2', 'B3']\n",
    "\n",
    "data['NewClients'] = [39, 44, 40, 34, 32, 36, 37, 42, 35, 34, 44, 39]\n",
    "\n",
    "total_mean = data['NewClients'].mean()\n",
    "\n",
    "# SS -- суммы квадратов отклонений\n",
    "ss_total = sum((data.NewClients - total_mean) ** 2)\n",
    "ss_a = sum([(data[data.Channel == l].NewClients.mean() - total_mean) ** 2 for l in data.Channel])\n",
    "ss_b = sum([(data[data.Region == l].NewClients.mean() - total_mean) ** 2 for l in data.Region])\n",
    "ss_err = sum([(data[(data.Channel == l) & (data.Region == k)].NewClients.values[0] - \\\n",
    "              data[data.Channel == l].NewClients.mean() - \\\n",
    "              data[data.Region == k].NewClients.mean() + total_mean) ** 2 for l, k  in zip(data.Channel, data.Region)])\n",
    "\n",
    "# DF -- степени свободы\n",
    "df_total = (len(data.Channel.unique()) * len(data.Region.unique())) - 1\n",
    "df_a = len(data.Channel.unique()) - 1\n",
    "df_b = len(data.Region.unique()) - 1\n",
    "df_err = (len(data.Channel.unique()) - 1) * (len(data.Region.unique()) - 1)\n",
    " \n",
    "# MS -- дисперсии\n",
    "ms_a = ss_a / df_a\n",
    "ms_b = ss_b / df_b\n",
    "ms_err = ss_err / df_err\n",
    "\n",
    "\n",
    "# F-statistics\n",
    "f_a = ms_a / ms_err\n",
    "f_b = ms_b / ms_err\n",
    "\n",
    "# p-values\n",
    "p_a = stats.f.sf(f_a, df_a, df_err)\n",
    "p_b = stats.f.sf(f_b, df_b, df_err)\n",
    "\n",
    "res_table = pd.DataFrame({'Источник': ['Фактор А (Канал)','Фактор Б (Регион)','Ошибка','Итого'],\n",
    "                          'SS': [ss_a, ss_b, ss_err, ss_total],\n",
    "                          'DF': [df_a, df_b, df_err, df_total],\n",
    "                          'MS': [ms_a, ms_b, ms_err, '--'],\n",
    "                          'F': [f_a, f_b, '--', '--'],\n",
    "                          'p-value': [p_a, p_b, '--', '--'],\n",
    "                          'F (крит)': [4.757063, 5.143253, '--', '--'],\n",
    "                          'Значимость': ['Фактор не оказывает существенного влияния', 'Фактор не оказывает существенного влияния', '--', '--']})\n",
    "\n",
    "print('Для обоих факторов нулевая гипотеза не отвергается, так как наблюдаемые значения отношения Фишера меньше критических. ')\n",
    "res_table"
   ]
  }
 ],
 "metadata": {
  "kernelspec": {
   "display_name": "Python 3",
   "language": "python",
   "name": "python3"
  },
  "language_info": {
   "codemirror_mode": {
    "name": "ipython",
    "version": 3
   },
   "file_extension": ".py",
   "mimetype": "text/x-python",
   "name": "python",
   "nbconvert_exporter": "python",
   "pygments_lexer": "ipython3",
   "version": "3.7.6"
  }
 },
 "nbformat": 4,
 "nbformat_minor": 4
}
